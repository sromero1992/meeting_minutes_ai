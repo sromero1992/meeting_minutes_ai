{
 "cells": [
  {
   "cell_type": "code",
   "execution_count": 9,
   "metadata": {},
   "outputs": [
    {
     "name": "stdout",
     "output_type": "stream",
     "text": [
      "C:\\Users\\ssromerogon\\Documents\\vscode_working_dir\\meeting_minutes_processing\n",
      "C:\\Users\\ssromerogon\\Documents\\vscode_working_dir\\meeting_minutes_processing\n"
     ]
    }
   ],
   "source": [
    "from pydub import AudioSegment\n",
    "from vosk import Model, KaldiRecognizer\n",
    "import wave\n",
    "import json\n",
    "import nltk\n",
    "from nltk.tokenize import sent_tokenize, word_tokenize\n",
    "from nltk.corpus import stopwords\n",
    "from nltk.stem import PorterStemmer\n",
    "import os\n",
    "print(os.getcwd())  # This will print the current directory\n",
    "\n",
    "audio_file_loc = \"C:\\\\Users\\\\ssromerogon\\\\Documents\\\\vscode_working_dir\\\\meeting_minutes_processing\\\\\"\n",
    "os.chdir(audio_file_loc)\n",
    "print(os.getcwd())  # This will print the current directory\n",
    "\n"
   ]
  },
  {
   "cell_type": "code",
   "execution_count": null,
   "metadata": {},
   "outputs": [],
   "source": [
    "# 1. Convert MP3 to WAV using pydub\n",
    "audio_file = \"scdc 11_13_24.mp3\"\n",
    "wav_file = \"scdc_11_13_24.wav\"\n",
    "\n",
    "# Convert MP3 to WAV\n",
    "audio = AudioSegment.from_mp3(audio_file)\n",
    "audio.export(wav_file, format=\"wav\")\n"
   ]
  },
  {
   "cell_type": "code",
   "execution_count": null,
   "metadata": {},
   "outputs": [],
   "source": [
    "\n",
    "# 2. Speech-to-Text Conversion using Vosk\n",
    "model = Model(\"path/to/vosk-model\")  # Download from https://alphacephei.com/vosk/models\n",
    "wf = wave.open(wav_file, \"rb\")\n",
    "\n",
    "if wf.getnchannels() != 1 or wf.getsampwidth() != 2 or wf.getframerate() not in [8000, 16000]:\n",
    "    raise ValueError(\"Audio file must be WAV format mono PCM.\")\n",
    "\n",
    "recognizer = KaldiRecognizer(model, wf.getframerate())\n",
    "recognizer.SetWords(True)\n",
    "text = \"\"\n",
    "\n",
    "while True:\n",
    "    data = wf.readframes(4000)\n",
    "    if len(data) == 0:\n",
    "        break\n",
    "    if recognizer.AcceptWaveform(data):\n",
    "        result = json.loads(recognizer.Result())\n",
    "        text += result.get(\"text\", \"\") + \" \"\n",
    "\n",
    "wf.close()\n",
    "\n",
    "# 3. Natural Language Processing\n",
    "nltk.download('punkt')\n",
    "nltk.download('stopwords')\n",
    "\n",
    "# Tokenization\n",
    "sentences = sent_tokenize(text)\n",
    "words = word_tokenize(text)\n",
    "\n",
    "# Stop Word Removal\n",
    "stop_words = set(stopwords.words('english'))\n",
    "filtered_words = [word for word in words if word.lower() not in stop_words]\n",
    "\n",
    "# Stemming\n",
    "stemmer = PorterStemmer()\n",
    "stemmed_words = [stemmer.stem(word) for word in filtered_words]\n",
    "\n",
    "# 4. Meeting Minute Generation\n",
    "def generate_minutes(sentences):\n",
    "    minutes = []\n",
    "    for sentence in sentences:\n",
    "        if \"action item\" in sentence.lower() or \"decision\" in sentence.lower():\n",
    "            minutes.append(sentence)\n",
    "    return minutes\n",
    "\n",
    "meeting_minutes = generate_minutes(sentences)\n",
    "\n",
    "# 5. Save Minutes to a Text File\n",
    "output_file = \"meeting_minutes_vosk.txt\"\n",
    "with open(output_file, \"w\") as f:\n",
    "    for line in meeting_minutes:\n",
    "        f.write(line + \"\\n\")\n",
    "\n",
    "print(\"Meeting minutes saved to\", output_file)\n"
   ]
  }
 ],
 "metadata": {
  "kernelspec": {
   "display_name": "audio_processing",
   "language": "python",
   "name": "python3"
  },
  "language_info": {
   "codemirror_mode": {
    "name": "ipython",
    "version": 3
   },
   "file_extension": ".py",
   "mimetype": "text/x-python",
   "name": "python",
   "nbconvert_exporter": "python",
   "pygments_lexer": "ipython3",
   "version": "3.10.15"
  }
 },
 "nbformat": 4,
 "nbformat_minor": 2
}
